{
  "nbformat": 4,
  "nbformat_minor": 0,
  "metadata": {
    "colab": {
      "provenance": []
    },
    "kernelspec": {
      "name": "python3",
      "display_name": "Python 3"
    },
    "language_info": {
      "name": "python"
    }
  },
  "cells": [
    {
      "cell_type": "markdown",
      "source": [
        "#Výjimky\n",
        "Během tvorby a **běhu** programu dochází často k nejrůznějším chybám (** výjimkám**).\n",
        "\n",
        "Některé chyby jsou tak závažné, že vůbec nedovolí spuštění programu (např. chybně (s překlepem) zapsané klíčové slovo (např. foor místo for, esle místo else a pod.)).\n",
        "\n",
        "Kontrolní dotaz: Může se při psaní v programu v Pythonu stát, že se z výše popsaného důvodu program vůbec nezačne provádět?\n",
        "\n",
        "Kontrolní odpověď: Ne, nemůže - výše popsaná situace může nastat pouze u kompilovaných jazyků. Popsanou chybu \"odhalí\" již kompilátor, který poté vůbec nevytvoří spustitelný soubor, který by se mohl spouštět. Oproti tomu Python je interpretovaný jazyk, který náš kód čte řádek po řádku a také ho řádek po řádku spouští - jakákoliv chyba (i naprosto evidentní a zásadní) se tedy projeví až ve chvíli, kdy interpret dorazí na řádek s chybou.\n",
        "\n"
      ],
      "metadata": {
        "id": "K4NFAqnzsrbI"
      }
    },
    {
      "cell_type": "code",
      "execution_count": null,
      "metadata": {
        "id": "fqxAbuXXsiiU"
      },
      "outputs": [],
      "source": [
        "# Neukončená závorka - překlep\n",
        "print(\"Ahoj!\"\n",
        "\n",
        "print(\"Toto se již nevykoná :-(\")\n"
      ]
    },
    {
      "cell_type": "markdown",
      "source": [
        "##Typy chyb\n",
        "\n",
        "Některé chyby jsou však záludnější, než jiné.\n",
        "\n",
        "Výše popsané \"**překlepy**\" dokáže odhalit i jen trochu chytřejší textový editor a např. nám je (jako programátorovi) podtrhne červeně. Pokud si nebudeme upozornění všímat a přesto kód spustíme, nezvládne interpret daný řádek vykonat (protože nezná to, co je na něm napsané) a běh programu se ukončí s chybou.\n",
        "\n",
        "Některé chyby se však projeví až tak zvaně \"**za běhu**\". To jsou chyby (operace, které není možné vykonat), které není možné (nebo je to velmi obtížné) odhalit pouze z kódu samotného, protože zavisí také na tom, co se stane až po spuštění programu (např. program zpracovává data zadaná uživatelem a není tedy předem známe, jaká data se budou zpracovávat - jaká data uživatel zadá).\n",
        "\n",
        "Typickými příklady jsou: dělení nulou; čtení ze souboru, který neexistuje; zápis do souboru, do kterého nemáme oprávnění zapisovat; ..."
      ],
      "metadata": {
        "id": "lC82f3Tdsqno"
      }
    },
    {
      "cell_type": "code",
      "source": [
        "# Dělení nulou - pokud druhé číslo nebude nula, program proběhne bez problémů...\n",
        "# pokud však druhé číslo bude nula, nastane chyba\n",
        "cislo1 = int(input(\"Zapiš dělenec: \"))\n",
        "cislo2 = int(input(\"Zapiš dělitel: \"))\n",
        "vysledek = cislo1 / cislo2\n",
        "print(\"Podíl:\", vysledek)"
      ],
      "metadata": {
        "id": "kS5_ptPRygaF"
      },
      "execution_count": null,
      "outputs": []
    },
    {
      "cell_type": "code",
      "source": [
        "# Čtení neexistujícího souboru\n",
        "with open(\"neexistuje.txt\", \"r\") as soubor:\n",
        "  obsah = soubor.read()\n",
        "  print(obsah)\n"
      ],
      "metadata": {
        "id": "xDv6z-z6z0p0"
      },
      "execution_count": null,
      "outputs": []
    },
    {
      "cell_type": "markdown",
      "source": [
        "Různých chyb, které mohou nastat je velké množství (viz [https://docs.python.org/3/library/exceptions.html](https://docs.python.org/3/library/exceptions.html)). Často jsou od sebe různé typy chyb odděděné (\"patří do stejné kategorie chyb\") a je tedy možné zpracovat více typů chyb najednou tím, že budeme zpracovat celou \"kategorii chyb\". Extrém je pak kategorie \"Exception\" do které patří veškeré chyby (tzv. výjimky)."
      ],
      "metadata": {
        "id": "w_4uq1A62MfT"
      }
    },
    {
      "cell_type": "markdown",
      "source": [
        "## Zachytávání výjimek\n",
        "\n",
        "Protože k výše popsaným situacím dochází velmi často, přišli tvůrci programovacích jazyků s takzvaným **zachytáváním** výjimek.\n",
        "\n",
        "Část kódu, ve které je očekávaná chyba za běhu, se uzavře do bloku **try-except** a v části **except** (za klíčové slovo se zapíše typ chyby, kterou chceme zachytávat) je poté možné smysluplně zareagovat (např. vyzvat uživatele, ať zadá hodnotu znovu a pod.)\n",
        "\n",
        "```\n",
        "try:\n",
        "  kód s možnou chybou\n",
        "except TypChybyKterouChcemeZachytit:\n",
        "  kód který se spustí při výskytu chyby\n",
        "except DalsiTypChybyKterouChcemeZachytit:\n",
        "  kód který se spustí při výskytu druheho typu chyby\n",
        "except:\n",
        "  kód který se spustí při výskytu libovolné jiné chyby\n",
        "```\n",
        "\n",
        "K chybě jako takové (k informacím o chybě) se lze dostat pomocí uložení chyby (informací o ní) do proměnné:\n",
        "\n",
        "```\n",
        "try:\n",
        "  kód s možnou chybou\n",
        "except TypChybyKterouChcemeZachytit as promenna:\n",
        "  kód který se spustí při výskytu chyby -> zde lze použít informace uložené v \"promenna\"\n",
        "```\n",
        "\n"
      ],
      "metadata": {
        "id": "GlPpY4yW0Gjt"
      }
    },
    {
      "cell_type": "code",
      "source": [
        "# Zachycení chyb\n",
        "try:\n",
        "  cislo1 = int(input(\"Zapiš dělenec: \"))\n",
        "  cislo2 = int(input(\"Zapiš dělitel: \"))\n",
        "  vysledek = cislo1 / cislo2\n",
        "  print(\"Podíl:\", vysledek)\n",
        "except ZeroDivisionError:\n",
        "  print(\"Chyba: Nelze dělit nulou!\")\n",
        "\n",
        "try:\n",
        "  with open(\"neexistuje.txt\", \"r\") as soubor:\n",
        "    obsah = soubor.read()\n",
        "    print(obsah)\n",
        "except FileNotFoundError:\n",
        "  print(\"Chyba: Soubor nenalezen!\")"
      ],
      "metadata": {
        "id": "ruWH08eazcgt"
      },
      "execution_count": null,
      "outputs": []
    },
    {
      "cell_type": "code",
      "source": [
        "# Zachycení chyb s uložením výjimky do proměnné\n",
        "try:\n",
        "  cislo1 = int(input(\"Zapiš dělenec: \"))\n",
        "  cislo2 = int(input(\"Zapiš dělitel: \"))\n",
        "  vysledek = cislo1 / cislo2\n",
        "  print(\"Podíl:\", vysledek)\n",
        "except ZeroDivisionError as chyba:\n",
        "  print(\"Chyba: Nelze dělit nulou!\")\n",
        "  print(\"Python by ti napsal: \", chyba)\n",
        "\n",
        "try:\n",
        "  with open(\"neexistuje.txt\", \"r\") as soubor:\n",
        "    obsah = soubor.read()\n",
        "    print(obsah)\n",
        "except FileNotFoundError as chyba:\n",
        "  print(\"Chyba: Soubor nenalezen!\")\n",
        "  print(\"Python by ti napsal: \", chyba)"
      ],
      "metadata": {
        "id": "epVjK8Of3y1y"
      },
      "execution_count": null,
      "outputs": []
    },
    {
      "cell_type": "markdown",
      "source": [
        "## Cvičení\n",
        "1.\n",
        "\n",
        "Upravte program tak, ať se smysluplnou infomrací pro uživatel vypořádá se sitacemi: 1) uživatel zadá nulu 2) uživatel zadá něco jiného než číslo"
      ],
      "metadata": {
        "id": "yR-FHIwi4y8h"
      }
    },
    {
      "cell_type": "code",
      "source": [
        "try:\n",
        "    cislo = int(input(\"Zadejte číslo: \"))\n",
        "    vysledek = 10 / cislo\n",
        "    print(\"Výsledek:\", vysledek)\n",
        "except ValueError:\n",
        "    print(\"Chyba:\", \"Zadaná hodnota není číslo.\")\n",
        "except ZeroDivisionError:\n",
        "    print(\"Chyba:\", \"Nelze dělit nulou!\")"
      ],
      "metadata": {
        "id": "YL0fTvXI5HJL",
        "outputId": "2875ae6b-b030-4bc6-89ce-dae5e1cd36ee",
        "colab": {
          "base_uri": "https://localhost:8080/"
        }
      },
      "execution_count": 8,
      "outputs": [
        {
          "output_type": "stream",
          "name": "stdout",
          "text": [
            "Zadejte číslo: A\n",
            "Chyba: Zadaná hodnota není číslo.\n"
          ]
        }
      ]
    },
    {
      "cell_type": "markdown",
      "source": [
        "<table>\n",
        "<tr>\n",
        "  <td>\n",
        "    <pre>\n",
        "Zadejte číslo: 2\n",
        "Výsledek: 5.0\n",
        "    </pre>\n",
        "  </td>\n",
        "  <td>\n",
        "    <pre>\n",
        "Zadejte číslo: 0\n",
        "Chyba: Nelze dělit nulou!\n",
        "    </pre>\n",
        "  </td>\n",
        "  <td>\n",
        "    <pre>\n",
        "Zadejte číslo: A\n",
        "Chyba: Zadaná hodnota není číslo.\n",
        "    </pre>\n",
        "  </td>\n",
        "</tr>\n",
        "</table>"
      ],
      "metadata": {
        "id": "EpQOOOnE5ZsE"
      }
    }
  ]
}