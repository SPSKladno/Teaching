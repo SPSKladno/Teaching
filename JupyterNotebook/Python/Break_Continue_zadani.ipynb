{
  "nbformat": 4,
  "nbformat_minor": 0,
  "metadata": {
    "colab": {
      "name": "Break_Continue_zadani.ipynb",
      "provenance": []
    },
    "kernelspec": {
      "name": "python3",
      "display_name": "Python 3"
    },
    "language_info": {
      "name": "python"
    }
  },
  "cells": [
    {
      "cell_type": "markdown",
      "metadata": {
        "id": "0Emcs3DswX_h"
      },
      "source": [
        "<h1>Break</h1>\n",
        "<p>Jakýkoliv cyklus ( <code>while</code> i <code>for</code>) můžeme ukončit kdykoliv v jeho těle (mezi příkazy, které jsou v něm napsané).<br>Slouží k tomu příkaz <code>break</code>. Ve chvíli, kdy program dorazí na řádek s tímto příkazem, okamžitě skočí za cyklus, ve kterém je tento příkaz zapsaný.</p>"
      ]
    },
    {
      "cell_type": "code",
      "metadata": {
        "id": "RBiBoG5IGkgX"
      },
      "source": [
        "x = 1\n",
        "while True: # podmínka je vždy splěna, cyklus by tedy nikdy sám neskončil\n",
        "  if x == 5:\n",
        "    break # ukončíme cyklus, pokud je v x hodnota 5\n",
        "  print(x)\n",
        "  x+=1\n",
        "print(\"Konec, x:\",x)"
      ],
      "execution_count": null,
      "outputs": []
    },
    {
      "cell_type": "code",
      "metadata": {
        "id": "ilPVVxs4HTBO"
      },
      "source": [
        "for kamarad in [\"Adam\", \"Bert\", \"Cyril\"]:\n",
        "  print(\"Můj kamarád je:\",kamarad)\n",
        "  if kamarad == \"Bert\":\n",
        "    break\n",
        "print(\"Konec\")"
      ],
      "execution_count": null,
      "outputs": []
    },
    {
      "cell_type": "markdown",
      "metadata": {
        "id": "CvOwZNtFyURp"
      },
      "source": [
        "<h2>Continue</h2>\n",
        "<p>Pomocí předchozího <code>break</code> se ukončil celý cyklus.<br>Můžeme také ukončit pouze aktuální průchod cyklem (jedno \"kolečko\").<br>Cyklus pak bude pokračovat dalším průchodem od začátku - přesunem na <strong>další prvek</strong> u <code>for</code> a <strong>kontrolou podmínky</strong> u <code>while</code>.</p>\n"
      ]
    },
    {
      "cell_type": "code",
      "metadata": {
        "id": "tF7A9k-rJ74-"
      },
      "source": [
        "x = 1\n",
        "while True: # podmínka je vždy splěna, cyklus by tedy nikdy sám neskončil\n",
        "  x+=1\n",
        "  if x == 3:\n",
        "    continue\n",
        "  if x == 5:\n",
        "    break # ukončíme cyklus, pokud je v x hodnota 5\n",
        "  print(x)\n",
        "print(\"Konec, x:\",x)"
      ],
      "execution_count": null,
      "outputs": []
    },
    {
      "cell_type": "code",
      "metadata": {
        "id": "QWpiVLawKtB6"
      },
      "source": [
        "for kamarad in [\"Adam\", \"Bert\", \"Cyril\", \"Dan\", \"Emil\"]:\n",
        "  if kamarad == \"Bert\":\n",
        "    continue\n",
        "  print(\"Můj kamarád je:\",kamarad)\n",
        "  if kamarad == \"Dan\":\n",
        "    break\n",
        "print(\"Konec\")"
      ],
      "execution_count": null,
      "outputs": []
    },
    {
      "cell_type": "markdown",
      "metadata": {
        "id": "KMQR0XLpwWlB"
      },
      "source": [
        "<h1>Cvičení</h1>"
      ]
    },
    {
      "cell_type": "markdown",
      "metadata": {
        "id": "mA1-q0a4e4qA"
      },
      "source": [
        "<h2>1</h2>\n",
        "<p>Použijte nekonečný while a vypište sudá čísla od 2 do 20 včetně.</p>\n",
        "<p>Poznámka: na takový úkol existuje v Pythonu elegantnější způsob než pomocí while, break a continue, berte to jako trénink.</p>"
      ]
    },
    {
      "cell_type": "code",
      "metadata": {
        "id": "Z466EW8o635i",
        "outputId": "87187cf3-d237-4eab-9d89-def33f9857f8",
        "colab": {
          "base_uri": "https://localhost:8080/"
        }
      },
      "source": [
        "x = 0 # tento řádek neměňtne\n",
        "while True: # tento řádek neměňte\n",
        "    x += 1\n",
        "    if x > 20:\n",
        "        break\n",
        "    if x % 2 == 0:\n",
        "        print(x)"
      ],
      "execution_count": 3,
      "outputs": [
        {
          "output_type": "stream",
          "name": "stdout",
          "text": [
            "2\n",
            "4\n",
            "6\n",
            "8\n",
            "10\n",
            "12\n",
            "14\n",
            "16\n",
            "18\n",
            "20\n"
          ]
        }
      ]
    },
    {
      "cell_type": "markdown",
      "metadata": {
        "id": "ygLmHF2V7hVr"
      },
      "source": [
        "<p>Výsledky pro Vaší kontrolu - referenční řešení má 7 řádků</p>\n",
        "<table>\n",
        "<tr>\n",
        "<td>\n",
        "<pre>\n",
        "2\n",
        "4\n",
        "6\n",
        "8\n",
        "10\n",
        "12\n",
        "14\n",
        "16\n",
        "18\n",
        "20\n",
        "</pre>\n",
        "</tr>\n",
        "</table>"
      ]
    },
    {
      "cell_type": "markdown",
      "metadata": {
        "id": "x6jEH5_-9UaV"
      },
      "source": [
        "<h2>2</h2>\n",
        "<p>Upravte následující kód tak, aby přeskočil ve výpisu jména začínající na \"A\" a skončil u prvního jména, které končí na \"k\".</p>"
      ]
    },
    {
      "cell_type": "code",
      "metadata": {
        "id": "O1Hv2HMx9__G",
        "outputId": "74a65115-3d62-4cf4-9049-4481c05c198c",
        "colab": {
          "base_uri": "https://localhost:8080/"
        }
      },
      "source": [
        "for jmeno in [\"Adam\", \"Bert\", \"Cyril\", \"Aneta\", \"Alice\", \"Radek\", \"František\", \"Roman\"]:\n",
        "    if jmeno[0].lower() == \"a\":\n",
        "        continue\n",
        "    if jmeno[-1].lower() == \"k\":\n",
        "        break\n",
        "    print(\"Můj kamarád/ka je:\",jmeno)\n",
        "print(\"Konec\")"
      ],
      "execution_count": 7,
      "outputs": [
        {
          "output_type": "stream",
          "name": "stdout",
          "text": [
            "Můj kamarád/ka je: Bert\n",
            "Můj kamarád/ka je: Cyril\n",
            "Konec\n"
          ]
        }
      ]
    },
    {
      "cell_type": "markdown",
      "metadata": {
        "id": "KceFc8NE_WJF"
      },
      "source": [
        "<p>Výsledky pro Vaší kontrolu - referenční řešení má 7 řádků</p>\n",
        "<table>\n",
        "<tr>\n",
        "<td>\n",
        "<pre>\n",
        "Můj kamarád/ka je: Bert\n",
        "Můj kamarád/ka je: Cyril\n",
        "Konec\n",
        "</pre>\n",
        "</td>\n",
        "</tr>\n",
        "</table>"
      ]
    },
    {
      "cell_type": "markdown",
      "metadata": {
        "id": "3S10Ec-o_lXD"
      },
      "source": [
        "<h2>3</h2>\n",
        "<p>Nechte uživatele zadávat vstup.</p>\n",
        "<p>Pokud zadá vstup složený pouze z abecedních znaků, vypište to, co zapsal.<br>Pokud je v zadaném textu dvojtečka \":\" -> ukončete program.<br>Pokud je v zadaném textu i něco jiného než písmena (a není to dvojtečka), nechte ho zadání opakovat.</p>\n",
        "<p>Nápověda: <a href=\"https://www.w3schools.com/python/ref_string_isalpha.asp\">isalpha()</a></p>\n"
      ]
    },
    {
      "cell_type": "code",
      "metadata": {
        "id": "Ch2oqRoYABAE",
        "outputId": "e4b5a123-5acd-4c88-c487-3a693283342d",
        "colab": {
          "base_uri": "https://localhost:8080/"
        }
      },
      "source": [
        "while True:\n",
        "    vstup = input(\"Zadej něco: \")\n",
        "    if not vstup.isalpha():\n",
        "        break\n",
        "    print(\"Zadal jsi:\",vstup)\n",
        "print(\"Konec\")"
      ],
      "execution_count": 10,
      "outputs": [
        {
          "output_type": "stream",
          "name": "stdout",
          "text": [
            "Zadej něco: Ahoj\n",
            "Zadal jsi: Ahoj\n",
            "Zadej něco: Adam:\n",
            "Konec\n"
          ]
        }
      ]
    },
    {
      "cell_type": "markdown",
      "metadata": {
        "id": "5evlE8QKA0Do"
      },
      "source": [
        "<p>Výsledky pro Vaší kontrolu - referenční řešení má 8 řádků</p>\n",
        "<table>\n",
        "<tr>\n",
        "<td>\n",
        "<pre>\n",
        "Zadej něco: Ahoj\n",
        "Zadal jsi: Ahoj\n",
        "Zadej něco: Adam:\n",
        "Konec\n",
        "</pre>\n",
        "</td>\n",
        "\n",
        "<td>\n",
        "<pre>\n",
        "Zadej něco: Nazdar\n",
        "Zadal jsi: Nazdar\n",
        "Zadej něco: 3x hurá\n",
        "Zadej něco: Říkám 3x hurá\n",
        "Zadej něco: Tak nic no...:\n",
        "Konec\n",
        "</pre>\n",
        "</td>\n",
        "\n",
        "<td>\n",
        "<pre>\n",
        "Zadej něco: :\n",
        "Konec\n",
        "</pre>\n",
        "</td>\n",
        "\n",
        "<td>\n",
        "<pre>\n",
        "Zadej něco: 1\n",
        "Zadej něco: 2\n",
        "Zadej něco: 3\n",
        "Zadej něco: Raz\n",
        "Zadal jsi: Raz\n",
        "Zadej něco: Dva\n",
        "Zadal jsi: Dva\n",
        "Zadej něco: Tři\n",
        "Zadal jsi: Tři\n",
        "Zadej něco: :\n",
        "Konec\n",
        "</pre>\n",
        "</td>\n",
        "\n",
        "</tr>\n",
        "</table>"
      ]
    }
  ]
}