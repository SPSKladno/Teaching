{
  "nbformat": 4,
  "nbformat_minor": 0,
  "metadata": {
    "colab": {
      "provenance": []
    },
    "kernelspec": {
      "name": "python3",
      "display_name": "Python 3"
    },
    "language_info": {
      "name": "python"
    }
  },
  "cells": [
    {
      "cell_type": "markdown",
      "source": [
        "# Soubory\n",
        "Velmi často chceme zpracovávat v programu data, která již máme uložená v souboru na disku (na pevném disku/v dlouhodobé paměti počítače), nebo naopak výsledek našeho výpočtu do takového souboru uložit.\n",
        "\n",
        "**Vešekerá data**, se kterými Python pracuje (a **která si neuložíme do souboru**) se z operační paměti počítače **smažou při ukončení programu**!\n",
        "\n",
        "Pokud chceme ukládat data do specializovaných formátů (např. .pdf, .xlsx, .odf, apod.) budeme muset sáhnout po specializovaných knihovnách. Nalezení, instalace, a použití takových knihoven je obvykle velmi jednoduché a přímočaré, ale i tak je mimo rozsah tohoto dokumentu.\n",
        "\n",
        "V tomto dokumentu se budeme zabývat ukládáním dat do **obyčejných textových souborů**\n",
        "\n",
        "## Umístění souborů\n",
        "### Při použití kódu na počítači\n",
        "Pokud kód spouštíme přímo na svém počítači, potom se soubory budou ukládat do (hledat se v) stejné složky, ve které je uložen náš soubor se zdrojovým kódem.\n",
        "### Při použití JupyterNotebooku v prostředí Colab\n",
        "Pokud spouštíte kód v tomto JupyterNotebooku v prostředí GoogleColab, potom úplně vlevo vidíte několik ikon, z nichž jedna odkazuje do souborového systému (vypadá jako složka) - pokud na ni kliknete, uvidíte souborový systém počítače Googlu na kterém právě pracujete (ano, je to operační systém Linux...).\n",
        "\n",
        "Složka ve které se budou hledat soubory pro čtení a ukládat soubory, které vytvoříte se jmenuje \"content\". Pro jistotu si můžete místo ověřit následujícím kódem, který se operačního systému (os) pomocí knihovny \"os\" zeptá na adresář (složku), ve které se právě pracuje (tzv. current working directory - cwd)\n"
      ],
      "metadata": {
        "id": "gOZRSDLx9A9A"
      }
    },
    {
      "cell_type": "code",
      "execution_count": null,
      "metadata": {
        "id": "wgiUfR_S8nGM"
      },
      "outputs": [],
      "source": [
        "import os\n",
        "print(os.getcwd())"
      ]
    },
    {
      "cell_type": "markdown",
      "source": [
        "### Absolutní cesta\n",
        "Výše popsané umístění souboru se nazývá \"relativní cesta\" - zadáváte název (případně i s dalšími názvy podsložek) souboru **relativně** vzhledem k aktuálnímu adresáři (co je to \"aktuální adresář\" se může lišit - viz výše).\n",
        "\n",
        "Druhou možností je zadání tzv. **absolutní cesty** k souboru - tedy zadat kompletní cestu - na operačním systému Windows typicky \"c:\\\\\\\\User\\\\Jarda\\\\Documenty\\\\soubor.txt\" na Linuxu pak typicky \"/home/Jarda/Dokumenty/soubor.txt\" zde na Colabu \"/content/soubor.txt\"\n",
        "\n",
        "V takovém případě je jasné, že se soubor hledá/ukládá na tomto konkrétním místě v počítači."
      ],
      "metadata": {
        "id": "xa0uMdxcAlgt"
      }
    },
    {
      "cell_type": "markdown",
      "source": [
        "## Zápis do souboru a čtení ze souboru\n",
        "Soubor lze otevřít (v případě zápisu vytvořit, pokud neexistuje) v několika režimech:\n",
        "\n",
        "\n",
        "*   w - write - smazání dosavadního obsahu souboru a zápis nového obsahu\n",
        "*   a - append - ponechání dosavadního obsahu souboru a zápis nových dat na konec souboru\n",
        "*   r - read - čtení dat ze souboru\n",
        "*   w+, a+ - komibnace předchozích, např. w+ je smazání obsahu a možnost jak zapisovat tak číst do/ze souboru\n",
        "\n",
        "Soubor **otevřeme** intuitivní funkcí \"open()\", které předáme název souboru (případně celou cestu k souboru) a režim, ve kterém chceme soubor otevřít. Funkce nám **vrátí proměnou**, která reprezentuje soubor (Python má o souboru uloženo spoustu věcí - režim, v jakém je otevřen, kde jsme zatím skončili se čtením či zápisem do souboru a pod.). Po ukončení práce se souborem je whodné soubor **uzavřít**. Tyto tři operace (které zle provést i každou zvlášť) můžeme elegantně \"schovat\" do jedné řídící struktury \"with\"\n",
        "\n",
        "<pre>\n",
        "with open(\"cesta/k/souboru/nazev.txt\", \"zkratka_rezimu\") as promenna:\n",
        "  zde se pracuje se souborem\n",
        "\n",
        "mimo blok \"with\" je soubor již automaticky uzavřen\n",
        "</pre>\n",
        "\n",
        "\n",
        "\n"
      ],
      "metadata": {
        "id": "-j0hYx8CCKPU"
      }
    },
    {
      "cell_type": "code",
      "source": [
        "# Zápis do souboru\n",
        "with open('ukazkovy.txt', 'w') as soubor:\n",
        "  soubor.write('Toto je ukázkový text.\\n')\n",
        "  soubor.write('Další řádek textu.\\n')\n",
        "\n",
        "# Čtení ze souboru\n",
        "with open('ukazkovy.txt', 'r') as s:\n",
        "  obsah = s.read()\n",
        "  print(obsah)\n"
      ],
      "metadata": {
        "id": "AZHxeAowC3Js"
      },
      "execution_count": null,
      "outputs": []
    },
    {
      "cell_type": "markdown",
      "source": [
        "### Zápis, čtení - write, read\n",
        "V předchozí ukázce vidíme, že zápis i čtení ze souboru je poměrně přímočaré - zapisujeme pomocí funkce \"write()\", kterou voláme na proměnné získané z funkce open() a obdobně obsah souboru přečteme funkcí \"read()\"."
      ],
      "metadata": {
        "id": "qjeJaWPwFV4j"
      }
    },
    {
      "cell_type": "markdown",
      "source": [
        "## Čtení řádek po řádku\n",
        "Často máme v souboru mnoho dat, která chceme zpracovat postupně a jednotlivé údaje máme zapsané na jednotlivých řádcích - např. seznam kamarádů s jejich datem narození.\n",
        "\n",
        "Soubor můžeme jednoduše číst řádek po řádku pomocí procházení řídící strukturou for.\n",
        "\n",
        "Čtení a zápis do a ze souboru jsou z hlediska programování v Pythonu jednoduché operace - obvykle je výrazně komplikovanější zpracovat uložená data do formátu, ve kterém jsou použitelné pro další výpočty.\n",
        "\n",
        "Veškerá data v **textovém souboru** jsou totiž **text**. Pokud chceme provádět s daty početní operace jako s čísly, nebo např. datumy, musíme tento uložený text na čísla či datumy nejprve převést.\n",
        "\n",
        "Pokud máme na jednom řádku více dat, musíme je nejprve rozdělit."
      ],
      "metadata": {
        "id": "SzKmnMshDyAT"
      }
    },
    {
      "cell_type": "code",
      "source": [
        "import os\n",
        "from datetime import date\n",
        "\n",
        "# Zápis do souboru - na jendom řádku jsou dvoje data - jméno a datum - obojí je však uloženo jako text\n",
        "with open('osoby.txt', 'w') as soubor:\n",
        "  soubor.write('Petr 1990-08-28\\n')\n",
        "  soubor.write('Jana 1985-05-20\\n')\n",
        "  soubor.write('Pavel 2001-12-10\\n')\n",
        "  soubor.write('Lucie 1978-03-08\\n')\n",
        "  soubor.write('Martin 1995-07-25\\n')\n",
        "\n",
        "# Čtení ze souboru a kontrola narozenin\n",
        "dnes = date.today() # dnešní datum získáme pomocí knihovny datetime\n",
        "with open('osoby.txt', 'r') as s:\n",
        "  for radek in s: # for cyklem čteme soubor řádek po řádku až dokonce souboru\n",
        "    data = radek.strip().split() # strip() odstraní bílé znaky ze začátku a konce textu, split() rozdělí text v místech, kde jsou mezery\n",
        "    jmeno = data[0] # první část textu je jméno\n",
        "    datum_narozeni = data[1] # druhá část textu je datum narození\n",
        "    rok, mesic, den = map(int, datum_narozeni.split('-')) # split() rozdělí datum v místech, kde jsou pomlčky, map() převede každou část na integer (celé číslo)\n",
        "    if date(dnes.year, mesic, den) == dnes: # ze tří integerů (celých čísel) vytvoříme skutečné \"datum\" (nikoliv jen text), které se umí porovnat s jiným datumem\n",
        "      print(f\"Blahopřeji k narozeninám, {jmeno}!\")\n"
      ],
      "metadata": {
        "id": "Er-cLGhqGY_C"
      },
      "execution_count": null,
      "outputs": []
    },
    {
      "cell_type": "markdown",
      "source": [
        "## Cvičení\n",
        "1.\n",
        "\n",
        "Upravte kód s jmény a datumy výše tak, aby kromě blahopřání vypsal i aktuální věk, osoby"
      ],
      "metadata": {
        "id": "qLII4oDoIjmA"
      }
    },
    {
      "cell_type": "code",
      "source": [
        "import os\n",
        "from datetime import date\n",
        "\n",
        "# Zápis do souboru\n",
        "with open('osoby.txt', 'w') as soubor:\n",
        "  soubor.write('Petr 1992-10-17\\n')\n",
        "  soubor.write('Jana 1985-05-20\\n')\n",
        "  soubor.write('Pavel 2001-12-10\\n')\n",
        "  soubor.write('Lucie 1978-03-08\\n')\n",
        "  soubor.write('Martin 1995-07-25\\n')\n",
        "\n",
        "today = date.today()\n",
        "with open('osoby.txt', 'r') as s:\n",
        "  for radek in s:\n",
        "    data = radek.strip().split()\n",
        "    jmeno = data[0]\n",
        "    datum_narozeni = data[1]\n",
        "    rok, mesic, den = map(int, datum_narozeni.split('-'))\n",
        "    if date(today.year, mesic, den) == today:\n",
        "        age = today.year - rok\n",
        "        print(f\"Blahopřeji k {age} narozeninám, {jmeno}!\")\n"
      ],
      "metadata": {
        "id": "rC_b-0ffI2Lx",
        "outputId": "334b45b4-2caf-49af-ac79-a692e5d098c5",
        "colab": {
          "base_uri": "https://localhost:8080/"
        }
      },
      "execution_count": 8,
      "outputs": [
        {
          "output_type": "stream",
          "name": "stdout",
          "text": [
            "Blahopřeji k 32 narozeninám, Petr!\n"
          ]
        }
      ]
    },
    {
      "cell_type": "markdown",
      "source": [
        "<table>\n",
        "  <tr>\n",
        "    <td>\n",
        "      <pre>Blahopřeji k 32 narozeninám, Petr!</pre>\n",
        "    </td>\n",
        "  </tr>\n",
        "</table>"
      ],
      "metadata": {
        "id": "Rhky_bcYJM3h"
      }
    }
  ]
}